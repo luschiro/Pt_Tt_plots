{
 "cells": [
  {
   "attachments": {},
   "cell_type": "markdown",
   "id": "a276f2a8",
   "metadata": {},
   "source": [
    "#### Ploting Compilation T-t - WIP\n",
    "\n",
    "* using `env_spatial`"
   ]
  },
  {
   "cell_type": "code",
   "execution_count": 1,
   "id": "b175d285",
   "metadata": {},
   "outputs": [],
   "source": [
    "# data\n",
    "import pandas as pd\n",
    "\n",
    "# data viz\n",
    "import plotly.express as px"
   ]
  },
  {
   "cell_type": "markdown",
   "id": "ea023742",
   "metadata": {},
   "source": [
    "**Loading Data**"
   ]
  },
  {
   "cell_type": "code",
   "execution_count": 2,
   "id": "378fa100",
   "metadata": {},
   "outputs": [
    {
     "data": {
      "text/html": [
       "<div>\n",
       "<style scoped>\n",
       "    .dataframe tbody tr th:only-of-type {\n",
       "        vertical-align: middle;\n",
       "    }\n",
       "\n",
       "    .dataframe tbody tr th {\n",
       "        vertical-align: top;\n",
       "    }\n",
       "\n",
       "    .dataframe thead th {\n",
       "        text-align: right;\n",
       "    }\n",
       "</style>\n",
       "<table border=\"1\" class=\"dataframe\">\n",
       "  <thead>\n",
       "    <tr style=\"text-align: right;\">\n",
       "      <th></th>\n",
       "      <th>reference</th>\n",
       "      <th>year</th>\n",
       "      <th>sample</th>\n",
       "      <th>method</th>\n",
       "      <th>geological_unit</th>\n",
       "      <th>hue_domain</th>\n",
       "      <th>T</th>\n",
       "      <th>T_error</th>\n",
       "      <th>T_min</th>\n",
       "      <th>T_max</th>\n",
       "      <th>...</th>\n",
       "      <th>age_intepretation</th>\n",
       "      <th>age_method</th>\n",
       "      <th>plot_Tt</th>\n",
       "      <th>plot_Pt</th>\n",
       "      <th>obs</th>\n",
       "      <th>Unnamed: 21</th>\n",
       "      <th>Unnamed: 22</th>\n",
       "      <th>Unnamed: 23</th>\n",
       "      <th>Unnamed: 24</th>\n",
       "      <th>hue_domain_order</th>\n",
       "    </tr>\n",
       "  </thead>\n",
       "  <tbody>\n",
       "    <tr>\n",
       "      <th>138</th>\n",
       "      <td>Schiavetti_et_al_2024</td>\n",
       "      <td>2025.0</td>\n",
       "      <td>01B - full map</td>\n",
       "      <td>Pseudosections - THERIAK-DOMINO</td>\n",
       "      <td>NaN</td>\n",
       "      <td>this study</td>\n",
       "      <td>800.0</td>\n",
       "      <td>30.0</td>\n",
       "      <td>770.0</td>\n",
       "      <td>830</td>\n",
       "      <td>...</td>\n",
       "      <td>peak temperature threshold</td>\n",
       "      <td>Lu-Hf grt</td>\n",
       "      <td>1.0</td>\n",
       "      <td>1.0</td>\n",
       "      <td>NaN</td>\n",
       "      <td>NaN</td>\n",
       "      <td>NaN</td>\n",
       "      <td>NaN</td>\n",
       "      <td>NaN</td>\n",
       "      <td>4.0</td>\n",
       "    </tr>\n",
       "    <tr>\n",
       "      <th>139</th>\n",
       "      <td>Schiavetti_et_al_2024</td>\n",
       "      <td>2025.0</td>\n",
       "      <td>02B - full map</td>\n",
       "      <td>Pseudosections - THERIAK-DOMINO</td>\n",
       "      <td>NaN</td>\n",
       "      <td>this study</td>\n",
       "      <td>820.0</td>\n",
       "      <td>50.0</td>\n",
       "      <td>770.0</td>\n",
       "      <td>870</td>\n",
       "      <td>...</td>\n",
       "      <td>isobaric cooling</td>\n",
       "      <td>U-Pb zr</td>\n",
       "      <td>1.0</td>\n",
       "      <td>1.0</td>\n",
       "      <td>based on 02C age</td>\n",
       "      <td>NaN</td>\n",
       "      <td>NaN</td>\n",
       "      <td>NaN</td>\n",
       "      <td>NaN</td>\n",
       "      <td>4.0</td>\n",
       "    </tr>\n",
       "    <tr>\n",
       "      <th>141</th>\n",
       "      <td>Schiavetti_et_al_2024</td>\n",
       "      <td>2025.0</td>\n",
       "      <td>03R1 - texture 4</td>\n",
       "      <td>Pseudosections - THERIAK-DOMINO</td>\n",
       "      <td>NaN</td>\n",
       "      <td>this study</td>\n",
       "      <td>975.0</td>\n",
       "      <td>105.0</td>\n",
       "      <td>870.0</td>\n",
       "      <td>1080</td>\n",
       "      <td>...</td>\n",
       "      <td>contact metamorphism</td>\n",
       "      <td>U-Pb zr - Laura</td>\n",
       "      <td>1.0</td>\n",
       "      <td>1.0</td>\n",
       "      <td>Laura's age</td>\n",
       "      <td>NaN</td>\n",
       "      <td>NaN</td>\n",
       "      <td>NaN</td>\n",
       "      <td>NaN</td>\n",
       "      <td>4.0</td>\n",
       "    </tr>\n",
       "    <tr>\n",
       "      <th>142</th>\n",
       "      <td>Schiavetti_et_al_2024</td>\n",
       "      <td>2025.0</td>\n",
       "      <td>01B grt</td>\n",
       "      <td>grt closure</td>\n",
       "      <td>NaN</td>\n",
       "      <td>this study</td>\n",
       "      <td>725.0</td>\n",
       "      <td>25.0</td>\n",
       "      <td>700.0</td>\n",
       "      <td>750</td>\n",
       "      <td>...</td>\n",
       "      <td>grt closure</td>\n",
       "      <td>Sm-Nd grt</td>\n",
       "      <td>1.0</td>\n",
       "      <td>1.0</td>\n",
       "      <td>NaN</td>\n",
       "      <td>NaN</td>\n",
       "      <td>NaN</td>\n",
       "      <td>NaN</td>\n",
       "      <td>NaN</td>\n",
       "      <td>4.0</td>\n",
       "    </tr>\n",
       "    <tr>\n",
       "      <th>7</th>\n",
       "      <td>Belém_2006</td>\n",
       "      <td>2006.0</td>\n",
       "      <td>J4</td>\n",
       "      <td>THERMOCALC</td>\n",
       "      <td>Jequitinhonha Complex</td>\n",
       "      <td>nvc / eastern</td>\n",
       "      <td>791.0</td>\n",
       "      <td>42.0</td>\n",
       "      <td>749.0</td>\n",
       "      <td>833</td>\n",
       "      <td>...</td>\n",
       "      <td>peak (?)</td>\n",
       "      <td>NaN</td>\n",
       "      <td>NaN</td>\n",
       "      <td>1.0</td>\n",
       "      <td>NaN</td>\n",
       "      <td>NaN</td>\n",
       "      <td>NaN</td>\n",
       "      <td>NaN</td>\n",
       "      <td>NaN</td>\n",
       "      <td>NaN</td>\n",
       "    </tr>\n",
       "    <tr>\n",
       "      <th>8</th>\n",
       "      <td>Belém_2006</td>\n",
       "      <td>2006.0</td>\n",
       "      <td>J13B</td>\n",
       "      <td>THERMOCALC</td>\n",
       "      <td>Jequitinhonha Complex</td>\n",
       "      <td>nvc / eastern</td>\n",
       "      <td>800.0</td>\n",
       "      <td>47.0</td>\n",
       "      <td>753.0</td>\n",
       "      <td>847</td>\n",
       "      <td>...</td>\n",
       "      <td>peak (?)</td>\n",
       "      <td>NaN</td>\n",
       "      <td>NaN</td>\n",
       "      <td>1.0</td>\n",
       "      <td>NaN</td>\n",
       "      <td>NaN</td>\n",
       "      <td>NaN</td>\n",
       "      <td>NaN</td>\n",
       "      <td>NaN</td>\n",
       "      <td>NaN</td>\n",
       "    </tr>\n",
       "    <tr>\n",
       "      <th>10</th>\n",
       "      <td>Belém_2006</td>\n",
       "      <td>2006.0</td>\n",
       "      <td>J24</td>\n",
       "      <td>THERMOCALC</td>\n",
       "      <td>Jequitinhonha Complex</td>\n",
       "      <td>nvc / eastern</td>\n",
       "      <td>831.0</td>\n",
       "      <td>42.0</td>\n",
       "      <td>789.0</td>\n",
       "      <td>873</td>\n",
       "      <td>...</td>\n",
       "      <td>decompression</td>\n",
       "      <td>NaN</td>\n",
       "      <td>NaN</td>\n",
       "      <td>1.0</td>\n",
       "      <td>NaN</td>\n",
       "      <td>NaN</td>\n",
       "      <td>NaN</td>\n",
       "      <td>NaN</td>\n",
       "      <td>NaN</td>\n",
       "      <td>NaN</td>\n",
       "    </tr>\n",
       "    <tr>\n",
       "      <th>11</th>\n",
       "      <td>Belém_2006</td>\n",
       "      <td>2006.0</td>\n",
       "      <td>J25</td>\n",
       "      <td>THERMOCALC</td>\n",
       "      <td>Jequitinhonha Complex</td>\n",
       "      <td>nvc / eastern</td>\n",
       "      <td>841.0</td>\n",
       "      <td>46.0</td>\n",
       "      <td>795.0</td>\n",
       "      <td>887</td>\n",
       "      <td>...</td>\n",
       "      <td>peak (?)</td>\n",
       "      <td>NaN</td>\n",
       "      <td>NaN</td>\n",
       "      <td>1.0</td>\n",
       "      <td>NaN</td>\n",
       "      <td>NaN</td>\n",
       "      <td>NaN</td>\n",
       "      <td>NaN</td>\n",
       "      <td>NaN</td>\n",
       "      <td>NaN</td>\n",
       "    </tr>\n",
       "    <tr>\n",
       "      <th>12</th>\n",
       "      <td>Belém_2006</td>\n",
       "      <td>2006.0</td>\n",
       "      <td>J26</td>\n",
       "      <td>THERMOCALC</td>\n",
       "      <td>Jequitinhonha Complex</td>\n",
       "      <td>nvc / eastern</td>\n",
       "      <td>917.0</td>\n",
       "      <td>52.0</td>\n",
       "      <td>865.0</td>\n",
       "      <td>969</td>\n",
       "      <td>...</td>\n",
       "      <td>peak (?)</td>\n",
       "      <td>NaN</td>\n",
       "      <td>NaN</td>\n",
       "      <td>1.0</td>\n",
       "      <td>NaN</td>\n",
       "      <td>NaN</td>\n",
       "      <td>NaN</td>\n",
       "      <td>NaN</td>\n",
       "      <td>NaN</td>\n",
       "      <td>NaN</td>\n",
       "    </tr>\n",
       "    <tr>\n",
       "      <th>13</th>\n",
       "      <td>Belém_2006</td>\n",
       "      <td>2006.0</td>\n",
       "      <td>J27</td>\n",
       "      <td>THERMOCALC</td>\n",
       "      <td>Jequitinhonha Complex</td>\n",
       "      <td>nvc / eastern</td>\n",
       "      <td>893.0</td>\n",
       "      <td>52.0</td>\n",
       "      <td>841.0</td>\n",
       "      <td>945</td>\n",
       "      <td>...</td>\n",
       "      <td>peak (?)</td>\n",
       "      <td>NaN</td>\n",
       "      <td>NaN</td>\n",
       "      <td>1.0</td>\n",
       "      <td>NaN</td>\n",
       "      <td>NaN</td>\n",
       "      <td>NaN</td>\n",
       "      <td>NaN</td>\n",
       "      <td>NaN</td>\n",
       "      <td>NaN</td>\n",
       "    </tr>\n",
       "  </tbody>\n",
       "</table>\n",
       "<p>10 rows × 26 columns</p>\n",
       "</div>"
      ],
      "text/plain": [
       "                 reference    year            sample  \\\n",
       "138  Schiavetti_et_al_2024  2025.0    01B - full map   \n",
       "139  Schiavetti_et_al_2024  2025.0    02B - full map   \n",
       "141  Schiavetti_et_al_2024  2025.0  03R1 - texture 4   \n",
       "142  Schiavetti_et_al_2024  2025.0           01B grt   \n",
       "7               Belém_2006  2006.0                J4   \n",
       "8               Belém_2006  2006.0              J13B   \n",
       "10              Belém_2006  2006.0               J24   \n",
       "11              Belém_2006  2006.0               J25   \n",
       "12              Belém_2006  2006.0               J26   \n",
       "13              Belém_2006  2006.0               J27   \n",
       "\n",
       "                              method        geological_unit     hue_domain  \\\n",
       "138  Pseudosections - THERIAK-DOMINO                    NaN     this study   \n",
       "139  Pseudosections - THERIAK-DOMINO                    NaN     this study   \n",
       "141  Pseudosections - THERIAK-DOMINO                    NaN     this study   \n",
       "142                      grt closure                    NaN     this study   \n",
       "7                         THERMOCALC  Jequitinhonha Complex  nvc / eastern   \n",
       "8                         THERMOCALC  Jequitinhonha Complex  nvc / eastern   \n",
       "10                        THERMOCALC  Jequitinhonha Complex  nvc / eastern   \n",
       "11                        THERMOCALC  Jequitinhonha Complex  nvc / eastern   \n",
       "12                        THERMOCALC  Jequitinhonha Complex  nvc / eastern   \n",
       "13                        THERMOCALC  Jequitinhonha Complex  nvc / eastern   \n",
       "\n",
       "         T  T_error  T_min T_max  ...           age_intepretation  \\\n",
       "138  800.0     30.0  770.0   830  ...  peak temperature threshold   \n",
       "139  820.0     50.0  770.0   870  ...            isobaric cooling   \n",
       "141  975.0    105.0  870.0  1080  ...        contact metamorphism   \n",
       "142  725.0     25.0  700.0   750  ...                 grt closure   \n",
       "7    791.0     42.0  749.0   833  ...                    peak (?)   \n",
       "8    800.0     47.0  753.0   847  ...                    peak (?)   \n",
       "10   831.0     42.0  789.0   873  ...               decompression   \n",
       "11   841.0     46.0  795.0   887  ...                    peak (?)   \n",
       "12   917.0     52.0  865.0   969  ...                    peak (?)   \n",
       "13   893.0     52.0  841.0   945  ...                    peak (?)   \n",
       "\n",
       "          age_method  plot_Tt plot_Pt               obs Unnamed: 21  \\\n",
       "138        Lu-Hf grt      1.0     1.0               NaN         NaN   \n",
       "139          U-Pb zr      1.0     1.0  based on 02C age         NaN   \n",
       "141  U-Pb zr - Laura      1.0     1.0       Laura's age         NaN   \n",
       "142        Sm-Nd grt      1.0     1.0               NaN         NaN   \n",
       "7                NaN      NaN     1.0               NaN         NaN   \n",
       "8                NaN      NaN     1.0               NaN         NaN   \n",
       "10               NaN      NaN     1.0               NaN         NaN   \n",
       "11               NaN      NaN     1.0               NaN         NaN   \n",
       "12               NaN      NaN     1.0               NaN         NaN   \n",
       "13               NaN      NaN     1.0               NaN         NaN   \n",
       "\n",
       "    Unnamed: 22 Unnamed: 23  Unnamed: 24  hue_domain_order  \n",
       "138         NaN         NaN          NaN               4.0  \n",
       "139         NaN         NaN          NaN               4.0  \n",
       "141         NaN         NaN          NaN               4.0  \n",
       "142         NaN         NaN          NaN               4.0  \n",
       "7           NaN         NaN          NaN               NaN  \n",
       "8           NaN         NaN          NaN               NaN  \n",
       "10          NaN         NaN          NaN               NaN  \n",
       "11          NaN         NaN          NaN               NaN  \n",
       "12          NaN         NaN          NaN               NaN  \n",
       "13          NaN         NaN          NaN               NaN  \n",
       "\n",
       "[10 rows x 26 columns]"
      ]
     },
     "execution_count": 2,
     "metadata": {},
     "output_type": "execute_result"
    }
   ],
   "source": [
    "# loading .csv\n",
    "df_excel = pd.read_excel('metamorphism_data.xlsx', sheet_name='metamorphism_simple')\n",
    "\n",
    "# map for legend\n",
    "df_excel['hue_domain_order'] = df_excel['hue_domain'].map({\n",
    "  'western mylonitic':0,\n",
    "  'central domain':1,\n",
    "  'eastern':2,\n",
    "  'nvc':3,\n",
    "  'this study': 4,\n",
    "  })\n",
    "\n",
    "# new df with plot data only\n",
    "df_excel = df_excel[(df_excel[\"plot_Tt\"] == True) | (df_excel[\"plot_Pt\"] == True)].sort_values('hue_domain_order', ascending=True).copy()\n",
    "df_excel.head(10)"
   ]
  },
  {
   "cell_type": "code",
   "execution_count": 3,
   "id": "da976058",
   "metadata": {},
   "outputs": [
    {
     "data": {
      "text/html": [
       "<div>\n",
       "<style scoped>\n",
       "    .dataframe tbody tr th:only-of-type {\n",
       "        vertical-align: middle;\n",
       "    }\n",
       "\n",
       "    .dataframe tbody tr th {\n",
       "        vertical-align: top;\n",
       "    }\n",
       "\n",
       "    .dataframe thead th {\n",
       "        text-align: right;\n",
       "    }\n",
       "</style>\n",
       "<table border=\"1\" class=\"dataframe\">\n",
       "  <thead>\n",
       "    <tr style=\"text-align: right;\">\n",
       "      <th></th>\n",
       "      <th>reference</th>\n",
       "      <th>year</th>\n",
       "      <th>sample</th>\n",
       "      <th>method</th>\n",
       "      <th>geological_unit</th>\n",
       "      <th>hue_domain</th>\n",
       "      <th>T</th>\n",
       "      <th>T_error</th>\n",
       "      <th>T_min</th>\n",
       "      <th>T_max</th>\n",
       "      <th>...</th>\n",
       "      <th>age_intepretation</th>\n",
       "      <th>age_method</th>\n",
       "      <th>plot_Tt</th>\n",
       "      <th>plot_Pt</th>\n",
       "      <th>obs</th>\n",
       "      <th>Unnamed: 21</th>\n",
       "      <th>Unnamed: 22</th>\n",
       "      <th>Unnamed: 23</th>\n",
       "      <th>Unnamed: 24</th>\n",
       "      <th>hue_domain_order</th>\n",
       "    </tr>\n",
       "  </thead>\n",
       "  <tbody>\n",
       "    <tr>\n",
       "      <th>138</th>\n",
       "      <td>Schiavetti_et_al_2024</td>\n",
       "      <td>2025.0</td>\n",
       "      <td>01B - full map</td>\n",
       "      <td>Pseudosections - THERIAK-DOMINO</td>\n",
       "      <td>NaN</td>\n",
       "      <td>this study</td>\n",
       "      <td>800.0</td>\n",
       "      <td>30.0</td>\n",
       "      <td>770.0</td>\n",
       "      <td>830</td>\n",
       "      <td>...</td>\n",
       "      <td>peak temperature threshold</td>\n",
       "      <td>Lu-Hf grt</td>\n",
       "      <td>1.0</td>\n",
       "      <td>1.0</td>\n",
       "      <td>NaN</td>\n",
       "      <td>NaN</td>\n",
       "      <td>NaN</td>\n",
       "      <td>NaN</td>\n",
       "      <td>NaN</td>\n",
       "      <td>4.0</td>\n",
       "    </tr>\n",
       "    <tr>\n",
       "      <th>139</th>\n",
       "      <td>Schiavetti_et_al_2024</td>\n",
       "      <td>2025.0</td>\n",
       "      <td>02B - full map</td>\n",
       "      <td>Pseudosections - THERIAK-DOMINO</td>\n",
       "      <td>NaN</td>\n",
       "      <td>this study</td>\n",
       "      <td>820.0</td>\n",
       "      <td>50.0</td>\n",
       "      <td>770.0</td>\n",
       "      <td>870</td>\n",
       "      <td>...</td>\n",
       "      <td>isobaric cooling</td>\n",
       "      <td>U-Pb zr</td>\n",
       "      <td>1.0</td>\n",
       "      <td>1.0</td>\n",
       "      <td>based on 02C age</td>\n",
       "      <td>NaN</td>\n",
       "      <td>NaN</td>\n",
       "      <td>NaN</td>\n",
       "      <td>NaN</td>\n",
       "      <td>4.0</td>\n",
       "    </tr>\n",
       "    <tr>\n",
       "      <th>141</th>\n",
       "      <td>Schiavetti_et_al_2024</td>\n",
       "      <td>2025.0</td>\n",
       "      <td>03R1 - texture 4</td>\n",
       "      <td>Pseudosections - THERIAK-DOMINO</td>\n",
       "      <td>NaN</td>\n",
       "      <td>this study</td>\n",
       "      <td>975.0</td>\n",
       "      <td>105.0</td>\n",
       "      <td>870.0</td>\n",
       "      <td>1080</td>\n",
       "      <td>...</td>\n",
       "      <td>contact metamorphism</td>\n",
       "      <td>U-Pb zr - Laura</td>\n",
       "      <td>1.0</td>\n",
       "      <td>1.0</td>\n",
       "      <td>Laura's age</td>\n",
       "      <td>NaN</td>\n",
       "      <td>NaN</td>\n",
       "      <td>NaN</td>\n",
       "      <td>NaN</td>\n",
       "      <td>4.0</td>\n",
       "    </tr>\n",
       "    <tr>\n",
       "      <th>142</th>\n",
       "      <td>Schiavetti_et_al_2024</td>\n",
       "      <td>2025.0</td>\n",
       "      <td>01B grt</td>\n",
       "      <td>grt closure</td>\n",
       "      <td>NaN</td>\n",
       "      <td>this study</td>\n",
       "      <td>725.0</td>\n",
       "      <td>25.0</td>\n",
       "      <td>700.0</td>\n",
       "      <td>750</td>\n",
       "      <td>...</td>\n",
       "      <td>grt closure</td>\n",
       "      <td>Sm-Nd grt</td>\n",
       "      <td>1.0</td>\n",
       "      <td>1.0</td>\n",
       "      <td>NaN</td>\n",
       "      <td>NaN</td>\n",
       "      <td>NaN</td>\n",
       "      <td>NaN</td>\n",
       "      <td>NaN</td>\n",
       "      <td>4.0</td>\n",
       "    </tr>\n",
       "  </tbody>\n",
       "</table>\n",
       "<p>4 rows × 26 columns</p>\n",
       "</div>"
      ],
      "text/plain": [
       "                 reference    year            sample  \\\n",
       "138  Schiavetti_et_al_2024  2025.0    01B - full map   \n",
       "139  Schiavetti_et_al_2024  2025.0    02B - full map   \n",
       "141  Schiavetti_et_al_2024  2025.0  03R1 - texture 4   \n",
       "142  Schiavetti_et_al_2024  2025.0           01B grt   \n",
       "\n",
       "                              method geological_unit  hue_domain      T  \\\n",
       "138  Pseudosections - THERIAK-DOMINO             NaN  this study  800.0   \n",
       "139  Pseudosections - THERIAK-DOMINO             NaN  this study  820.0   \n",
       "141  Pseudosections - THERIAK-DOMINO             NaN  this study  975.0   \n",
       "142                      grt closure             NaN  this study  725.0   \n",
       "\n",
       "     T_error  T_min T_max  ...           age_intepretation       age_method  \\\n",
       "138     30.0  770.0   830  ...  peak temperature threshold        Lu-Hf grt   \n",
       "139     50.0  770.0   870  ...            isobaric cooling          U-Pb zr   \n",
       "141    105.0  870.0  1080  ...        contact metamorphism  U-Pb zr - Laura   \n",
       "142     25.0  700.0   750  ...                 grt closure        Sm-Nd grt   \n",
       "\n",
       "     plot_Tt plot_Pt               obs Unnamed: 21 Unnamed: 22 Unnamed: 23  \\\n",
       "138      1.0     1.0               NaN         NaN         NaN         NaN   \n",
       "139      1.0     1.0  based on 02C age         NaN         NaN         NaN   \n",
       "141      1.0     1.0       Laura's age         NaN         NaN         NaN   \n",
       "142      1.0     1.0               NaN         NaN         NaN         NaN   \n",
       "\n",
       "     Unnamed: 24  hue_domain_order  \n",
       "138          NaN               4.0  \n",
       "139          NaN               4.0  \n",
       "141          NaN               4.0  \n",
       "142          NaN               4.0  \n",
       "\n",
       "[4 rows x 26 columns]"
      ]
     },
     "execution_count": 3,
     "metadata": {},
     "output_type": "execute_result"
    }
   ],
   "source": [
    "df_excel[df_excel['reference'] == 'Schiavetti_et_al_2024'].head(10)"
   ]
  },
  {
   "attachments": {},
   "cell_type": "markdown",
   "id": "722a3c4b",
   "metadata": {},
   "source": [
    "#### helper plotting function"
   ]
  },
  {
   "cell_type": "markdown",
   "id": "2e612840",
   "metadata": {},
   "source": [
    "#### T-t plot function"
   ]
  },
  {
   "cell_type": "code",
   "execution_count": 4,
   "id": "fab52c5e",
   "metadata": {},
   "outputs": [],
   "source": [
    "# TEMPERATURE - TIME\n",
    "def plot_Tt (df_plot, name:str, export=False):\n",
    "  \n",
    "  df_plot = df_plot[df_plot[\"plot_Tt\"] == True]\n",
    "\n",
    "  # setup plot\n",
    "  fig = px.scatter(\n",
    "          data_frame=df_plot,\n",
    "          x=\"age\",\n",
    "          y=\"T\",\n",
    "          color=\"hue_domain\",\n",
    "          #color_discrete_sequence=px.colors.qualitative.Antique,\n",
    "          color_discrete_map={\n",
    "                \"western mylonitic\": \"#333333\",\n",
    "                \"eastern\":\"#333333\",\n",
    "                \"central domain\": \"#333333\",\n",
    "                \"nvc\": \"#333333\",\n",
    "                \"this study\": \"#00cc99\",\n",
    "                \"this study + ref\": \"#cb6816\",\n",
    "\n",
    "                \"nvc / eastern\": \"#333333\",\n",
    "                },\n",
    "\n",
    "          error_y=\"T_error\",\n",
    "          error_x=\"age_error\",\n",
    "        #   hover_data = \"age_method\"\n",
    "          hover_data = \"reference\"\n",
    "          )\n",
    "\n",
    "  # layout\n",
    "  fig.update_layout(\n",
    "      template=\"simple_white\",\n",
    "      font_family=\"Calibri\",\n",
    "      font_size=18,\n",
    "      title={\n",
    "        'text':\"<b>T-t data compilation</b>\",\n",
    "        'x':0.5,\n",
    "      },\n",
    "      legend={\n",
    "        'title':\"<b>Domains</b>\",\n",
    "        'yanchor':\"top\",\n",
    "        'y':0.99,\n",
    "        'xanchor':\"left\",\n",
    "        'x':0.01,\n",
    "        'bordercolor':\"Black\",\n",
    "        'borderwidth':0.5,\n",
    "        'font_size':18,\n",
    "        'font_family':\"Calibri\",\n",
    "      },\n",
    "      margin=dict(r=20,b=20),\n",
    "      width=1200, \n",
    "      height=720, #720\n",
    "  )\n",
    "\n",
    "  # axis\n",
    "  fig.update_xaxes(showline=True,linewidth=0.5,linecolor='black',title_text='Age (Ma)',ticks=\"inside\",range=[610,450],tickwidth=0.5)\n",
    "  fig.update_yaxes(showline=True,linewidth=0.5,linecolor='black',title_text='Temperature (°C)',range=[250,1100],ticks=\"inside\",tickwidth=0.5)\n",
    "\n",
    "  # marker\n",
    "  fig.update_traces(marker={'size':12})\n",
    "\n",
    "  # exporting\n",
    "  if export:\n",
    "    fig.write_image(f'./figs/fig1_new_temperature_{name}.svg')\n",
    "\n",
    "  fig.show()\n"
   ]
  },
  {
   "cell_type": "markdown",
   "id": "b5219c82",
   "metadata": {},
   "source": [
    "#### P-t plot function"
   ]
  },
  {
   "cell_type": "code",
   "execution_count": 5,
   "id": "c9bf4b46",
   "metadata": {},
   "outputs": [],
   "source": [
    "# PRESSURE - TIME\n",
    "def plot_Pt(df_plot, name:str, export=False):\n",
    "  \n",
    "  df_plot = df_plot[df_plot[\"plot_Pt\"] == True]\n",
    "\n",
    "  # setup plot\n",
    "  fig = px.scatter(\n",
    "          data_frame=df_plot,\n",
    "          x=\"age\",\n",
    "          y=\"P\",\n",
    "          color=\"hue_domain\",\n",
    "          #color_discrete_sequence=px.colors.qualitative.Antique,\n",
    "          color_discrete_map={\n",
    "                \"western mylonitic\": \"#333333\",\n",
    "                \"eastern\":\"#333333\",\n",
    "                \"central domain\": \"#333333\",\n",
    "                \"nvc\": \"#333333\",\n",
    "                \"this study\": \"#00cc99\",\n",
    "                \"this study + ref\": \"#cb6816\",\n",
    "\n",
    "                \"nvc / eastern\": \"#333333\",\n",
    "                },\n",
    "\n",
    "          error_y=\"P_error\",\n",
    "          error_x=\"age_error\",\n",
    "        #   hover_data = \"age_method\"\n",
    "          hover_data = \"reference\"\n",
    "          )\n",
    "\n",
    "  # layout\n",
    "  fig.update_layout(\n",
    "      template=\"simple_white\",\n",
    "      font_family=\"Calibri\",\n",
    "      font_size=18,\n",
    "      title={\n",
    "        'text':\"<b>P-t data compilation</b>\",\n",
    "        'x':0.5,\n",
    "      },\n",
    "      legend={\n",
    "        'title':\"<b>Domains</b>\",\n",
    "        'yanchor':\"top\",\n",
    "        'y':0.99,\n",
    "        'xanchor':\"left\",\n",
    "        'x':0.01,\n",
    "        'bordercolor':\"Black\",\n",
    "        'borderwidth':0.5,\n",
    "        'font_size':18,\n",
    "        'font_family':\"Calibri\",\n",
    "      },\n",
    "      margin=dict(r=20,b=20),\n",
    "      width=1200, \n",
    "      height=720, #720\n",
    "  )\n",
    "\n",
    "  # axis\n",
    "  fig.update_xaxes(showline=True,linewidth=0.5,linecolor='black',title_text='Age (Ma)',ticks=\"inside\",range=[610,450],tickwidth=0.5)\n",
    "  fig.update_yaxes(showline=True,linewidth=0.5,linecolor='black',title_text='Pressure (kbar)',range=[3.5,11],ticks=\"inside\",tickwidth=0.5)\n",
    "\n",
    "  # marker\n",
    "  fig.update_traces(marker={'size':12})\n",
    "\n",
    "  # exporting\n",
    "  if export:\n",
    "    fig.write_image(f'./figs/fig1_new_pressure_{name}.svg')\n",
    "\n",
    "  fig.show()"
   ]
  },
  {
   "attachments": {},
   "cell_type": "markdown",
   "id": "57e2e534",
   "metadata": {},
   "source": [
    "#### Plotting"
   ]
  },
  {
   "cell_type": "code",
   "execution_count": 6,
   "id": "4884beda",
   "metadata": {},
   "outputs": [
    {
     "data": {
      "application/vnd.plotly.v1+json": {
       "config": {
        "plotlyServerURL": "https://plot.ly"
       },
       "data": [
        {
         "customdata": [
          [
           "Schiavetti_et_al_2024"
          ],
          [
           "Schiavetti_et_al_2024"
          ],
          [
           "Schiavetti_et_al_2024"
          ],
          [
           "Schiavetti_et_al_2024"
          ]
         ],
         "error_x": {
          "array": [
           2,
           4,
           7,
           2
          ]
         },
         "error_y": {
          "array": [
           30,
           50,
           105,
           25
          ]
         },
         "hovertemplate": "hue_domain=this study<br>age=%{x}<br>T=%{y}<br>reference=%{customdata[0]}<extra></extra>",
         "legendgroup": "this study",
         "marker": {
          "color": "#00cc99",
          "size": 12,
          "symbol": "circle"
         },
         "mode": "markers",
         "name": "this study",
         "orientation": "v",
         "showlegend": true,
         "type": "scatter",
         "x": [
          528,
          498,
          523,
          492
         ],
         "xaxis": "x",
         "y": [
          800,
          820,
          975,
          725
         ],
         "yaxis": "y"
        },
        {
         "customdata": [
          [
           "Ritcher_et_al_2016"
          ],
          [
           "Ritcher_et_al_2016"
          ],
          [
           "Ritcher_et_al_2016"
          ],
          [
           "Ritcher_et_al_2016"
          ],
          [
           "Ritcher_et_al_2016"
          ],
          [
           "Melo_et_al_2017a"
          ],
          [
           "Melo_et_al_2017a"
          ],
          [
           "Cavalcante_et_al_2018"
          ],
          [
           "Cavalcante_et_al_2018"
          ],
          [
           "Cavalcante_et_al_2018"
          ],
          [
           "Cavalcante_et_al_2018"
          ],
          [
           "Cavalcante_et_al_2018"
          ],
          [
           "Cavalcante_et_al_2018"
          ],
          [
           "Cavalcante_et_al_2018"
          ],
          [
           "Vauchez_et_al_2019"
          ],
          [
           "Vauchez_et_al_2019"
          ],
          [
           "Vauchez_et_al_2019"
          ],
          [
           "Vauchez_et_al_2019"
          ],
          [
           "Vauchez_et_al_2019"
          ],
          [
           "Vauchez_et_al_2019"
          ],
          [
           "Vauchez_et_al_2019"
          ]
         ],
         "error_x": {
          "array": [
           5,
           4,
           4,
           3,
           5,
           9,
           4,
           6,
           6,
           6,
           6,
           9,
           8,
           9,
           4,
           4,
           4,
           4,
           4,
           "4 (1)",
           4
          ]
         },
         "error_y": {
          "array": [
           30,
           23,
           21,
           85,
           112,
           10,
           7.5,
           76.5,
           55.5,
           35.5,
           34.5,
           28.5,
           43,
           37.5,
           7,
           2.5,
           7,
           3.5,
           6,
           10.5,
           13
          ]
         },
         "hovertemplate": "hue_domain=nvc / eastern<br>age=%{x}<br>T=%{y}<br>reference=%{customdata[0]}<extra></extra>",
         "legendgroup": "nvc / eastern",
         "marker": {
          "color": "#333333",
          "size": 12,
          "symbol": "circle"
         },
         "mode": "markers",
         "name": "nvc / eastern",
         "orientation": "v",
         "showlegend": true,
         "type": "scatter",
         "x": [
          561,
          499,
          570,
          495,
          565,
          560,
          530,
          576,
          589,
          599,
          594,
          583,
          579,
          583,
          486,
          477,
          474,
          476,
          459,
          472,
          469
         ],
         "xaxis": "x",
         "y": [
          785,
          743,
          831,
          715,
          887,
          810,
          762.5,
          743.5,
          713.5,
          732.5,
          720.5,
          717.5,
          730,
          782.5,
          306,
          335.5,
          306,
          329.5,
          332,
          309.5,
          307
         ],
         "yaxis": "y"
        }
       ],
       "layout": {
        "font": {
         "family": "Calibri",
         "size": 18
        },
        "height": 720,
        "legend": {
         "bordercolor": "Black",
         "borderwidth": 0.5,
         "font": {
          "family": "Calibri",
          "size": 18
         },
         "title": {
          "text": "<b>Domains</b>"
         },
         "tracegroupgap": 0,
         "x": 0.01,
         "xanchor": "left",
         "y": 0.99,
         "yanchor": "top"
        },
        "margin": {
         "b": 20,
         "r": 20,
         "t": 60
        },
        "template": {
         "data": {
          "bar": [
           {
            "error_x": {
             "color": "rgb(36,36,36)"
            },
            "error_y": {
             "color": "rgb(36,36,36)"
            },
            "marker": {
             "line": {
              "color": "white",
              "width": 0.5
             },
             "pattern": {
              "fillmode": "overlay",
              "size": 10,
              "solidity": 0.2
             }
            },
            "type": "bar"
           }
          ],
          "barpolar": [
           {
            "marker": {
             "line": {
              "color": "white",
              "width": 0.5
             },
             "pattern": {
              "fillmode": "overlay",
              "size": 10,
              "solidity": 0.2
             }
            },
            "type": "barpolar"
           }
          ],
          "carpet": [
           {
            "aaxis": {
             "endlinecolor": "rgb(36,36,36)",
             "gridcolor": "white",
             "linecolor": "white",
             "minorgridcolor": "white",
             "startlinecolor": "rgb(36,36,36)"
            },
            "baxis": {
             "endlinecolor": "rgb(36,36,36)",
             "gridcolor": "white",
             "linecolor": "white",
             "minorgridcolor": "white",
             "startlinecolor": "rgb(36,36,36)"
            },
            "type": "carpet"
           }
          ],
          "choropleth": [
           {
            "colorbar": {
             "outlinewidth": 1,
             "tickcolor": "rgb(36,36,36)",
             "ticks": "outside"
            },
            "type": "choropleth"
           }
          ],
          "contour": [
           {
            "colorbar": {
             "outlinewidth": 1,
             "tickcolor": "rgb(36,36,36)",
             "ticks": "outside"
            },
            "colorscale": [
             [
              0,
              "#440154"
             ],
             [
              0.1111111111111111,
              "#482878"
             ],
             [
              0.2222222222222222,
              "#3e4989"
             ],
             [
              0.3333333333333333,
              "#31688e"
             ],
             [
              0.4444444444444444,
              "#26828e"
             ],
             [
              0.5555555555555556,
              "#1f9e89"
             ],
             [
              0.6666666666666666,
              "#35b779"
             ],
             [
              0.7777777777777778,
              "#6ece58"
             ],
             [
              0.8888888888888888,
              "#b5de2b"
             ],
             [
              1,
              "#fde725"
             ]
            ],
            "type": "contour"
           }
          ],
          "contourcarpet": [
           {
            "colorbar": {
             "outlinewidth": 1,
             "tickcolor": "rgb(36,36,36)",
             "ticks": "outside"
            },
            "type": "contourcarpet"
           }
          ],
          "heatmap": [
           {
            "colorbar": {
             "outlinewidth": 1,
             "tickcolor": "rgb(36,36,36)",
             "ticks": "outside"
            },
            "colorscale": [
             [
              0,
              "#440154"
             ],
             [
              0.1111111111111111,
              "#482878"
             ],
             [
              0.2222222222222222,
              "#3e4989"
             ],
             [
              0.3333333333333333,
              "#31688e"
             ],
             [
              0.4444444444444444,
              "#26828e"
             ],
             [
              0.5555555555555556,
              "#1f9e89"
             ],
             [
              0.6666666666666666,
              "#35b779"
             ],
             [
              0.7777777777777778,
              "#6ece58"
             ],
             [
              0.8888888888888888,
              "#b5de2b"
             ],
             [
              1,
              "#fde725"
             ]
            ],
            "type": "heatmap"
           }
          ],
          "heatmapgl": [
           {
            "colorbar": {
             "outlinewidth": 1,
             "tickcolor": "rgb(36,36,36)",
             "ticks": "outside"
            },
            "colorscale": [
             [
              0,
              "#440154"
             ],
             [
              0.1111111111111111,
              "#482878"
             ],
             [
              0.2222222222222222,
              "#3e4989"
             ],
             [
              0.3333333333333333,
              "#31688e"
             ],
             [
              0.4444444444444444,
              "#26828e"
             ],
             [
              0.5555555555555556,
              "#1f9e89"
             ],
             [
              0.6666666666666666,
              "#35b779"
             ],
             [
              0.7777777777777778,
              "#6ece58"
             ],
             [
              0.8888888888888888,
              "#b5de2b"
             ],
             [
              1,
              "#fde725"
             ]
            ],
            "type": "heatmapgl"
           }
          ],
          "histogram": [
           {
            "marker": {
             "line": {
              "color": "white",
              "width": 0.6
             }
            },
            "type": "histogram"
           }
          ],
          "histogram2d": [
           {
            "colorbar": {
             "outlinewidth": 1,
             "tickcolor": "rgb(36,36,36)",
             "ticks": "outside"
            },
            "colorscale": [
             [
              0,
              "#440154"
             ],
             [
              0.1111111111111111,
              "#482878"
             ],
             [
              0.2222222222222222,
              "#3e4989"
             ],
             [
              0.3333333333333333,
              "#31688e"
             ],
             [
              0.4444444444444444,
              "#26828e"
             ],
             [
              0.5555555555555556,
              "#1f9e89"
             ],
             [
              0.6666666666666666,
              "#35b779"
             ],
             [
              0.7777777777777778,
              "#6ece58"
             ],
             [
              0.8888888888888888,
              "#b5de2b"
             ],
             [
              1,
              "#fde725"
             ]
            ],
            "type": "histogram2d"
           }
          ],
          "histogram2dcontour": [
           {
            "colorbar": {
             "outlinewidth": 1,
             "tickcolor": "rgb(36,36,36)",
             "ticks": "outside"
            },
            "colorscale": [
             [
              0,
              "#440154"
             ],
             [
              0.1111111111111111,
              "#482878"
             ],
             [
              0.2222222222222222,
              "#3e4989"
             ],
             [
              0.3333333333333333,
              "#31688e"
             ],
             [
              0.4444444444444444,
              "#26828e"
             ],
             [
              0.5555555555555556,
              "#1f9e89"
             ],
             [
              0.6666666666666666,
              "#35b779"
             ],
             [
              0.7777777777777778,
              "#6ece58"
             ],
             [
              0.8888888888888888,
              "#b5de2b"
             ],
             [
              1,
              "#fde725"
             ]
            ],
            "type": "histogram2dcontour"
           }
          ],
          "mesh3d": [
           {
            "colorbar": {
             "outlinewidth": 1,
             "tickcolor": "rgb(36,36,36)",
             "ticks": "outside"
            },
            "type": "mesh3d"
           }
          ],
          "parcoords": [
           {
            "line": {
             "colorbar": {
              "outlinewidth": 1,
              "tickcolor": "rgb(36,36,36)",
              "ticks": "outside"
             }
            },
            "type": "parcoords"
           }
          ],
          "pie": [
           {
            "automargin": true,
            "type": "pie"
           }
          ],
          "scatter": [
           {
            "fillpattern": {
             "fillmode": "overlay",
             "size": 10,
             "solidity": 0.2
            },
            "type": "scatter"
           }
          ],
          "scatter3d": [
           {
            "line": {
             "colorbar": {
              "outlinewidth": 1,
              "tickcolor": "rgb(36,36,36)",
              "ticks": "outside"
             }
            },
            "marker": {
             "colorbar": {
              "outlinewidth": 1,
              "tickcolor": "rgb(36,36,36)",
              "ticks": "outside"
             }
            },
            "type": "scatter3d"
           }
          ],
          "scattercarpet": [
           {
            "marker": {
             "colorbar": {
              "outlinewidth": 1,
              "tickcolor": "rgb(36,36,36)",
              "ticks": "outside"
             }
            },
            "type": "scattercarpet"
           }
          ],
          "scattergeo": [
           {
            "marker": {
             "colorbar": {
              "outlinewidth": 1,
              "tickcolor": "rgb(36,36,36)",
              "ticks": "outside"
             }
            },
            "type": "scattergeo"
           }
          ],
          "scattergl": [
           {
            "marker": {
             "colorbar": {
              "outlinewidth": 1,
              "tickcolor": "rgb(36,36,36)",
              "ticks": "outside"
             }
            },
            "type": "scattergl"
           }
          ],
          "scattermapbox": [
           {
            "marker": {
             "colorbar": {
              "outlinewidth": 1,
              "tickcolor": "rgb(36,36,36)",
              "ticks": "outside"
             }
            },
            "type": "scattermapbox"
           }
          ],
          "scatterpolar": [
           {
            "marker": {
             "colorbar": {
              "outlinewidth": 1,
              "tickcolor": "rgb(36,36,36)",
              "ticks": "outside"
             }
            },
            "type": "scatterpolar"
           }
          ],
          "scatterpolargl": [
           {
            "marker": {
             "colorbar": {
              "outlinewidth": 1,
              "tickcolor": "rgb(36,36,36)",
              "ticks": "outside"
             }
            },
            "type": "scatterpolargl"
           }
          ],
          "scatterternary": [
           {
            "marker": {
             "colorbar": {
              "outlinewidth": 1,
              "tickcolor": "rgb(36,36,36)",
              "ticks": "outside"
             }
            },
            "type": "scatterternary"
           }
          ],
          "surface": [
           {
            "colorbar": {
             "outlinewidth": 1,
             "tickcolor": "rgb(36,36,36)",
             "ticks": "outside"
            },
            "colorscale": [
             [
              0,
              "#440154"
             ],
             [
              0.1111111111111111,
              "#482878"
             ],
             [
              0.2222222222222222,
              "#3e4989"
             ],
             [
              0.3333333333333333,
              "#31688e"
             ],
             [
              0.4444444444444444,
              "#26828e"
             ],
             [
              0.5555555555555556,
              "#1f9e89"
             ],
             [
              0.6666666666666666,
              "#35b779"
             ],
             [
              0.7777777777777778,
              "#6ece58"
             ],
             [
              0.8888888888888888,
              "#b5de2b"
             ],
             [
              1,
              "#fde725"
             ]
            ],
            "type": "surface"
           }
          ],
          "table": [
           {
            "cells": {
             "fill": {
              "color": "rgb(237,237,237)"
             },
             "line": {
              "color": "white"
             }
            },
            "header": {
             "fill": {
              "color": "rgb(217,217,217)"
             },
             "line": {
              "color": "white"
             }
            },
            "type": "table"
           }
          ]
         },
         "layout": {
          "annotationdefaults": {
           "arrowhead": 0,
           "arrowwidth": 1
          },
          "autotypenumbers": "strict",
          "coloraxis": {
           "colorbar": {
            "outlinewidth": 1,
            "tickcolor": "rgb(36,36,36)",
            "ticks": "outside"
           }
          },
          "colorscale": {
           "diverging": [
            [
             0,
             "rgb(103,0,31)"
            ],
            [
             0.1,
             "rgb(178,24,43)"
            ],
            [
             0.2,
             "rgb(214,96,77)"
            ],
            [
             0.3,
             "rgb(244,165,130)"
            ],
            [
             0.4,
             "rgb(253,219,199)"
            ],
            [
             0.5,
             "rgb(247,247,247)"
            ],
            [
             0.6,
             "rgb(209,229,240)"
            ],
            [
             0.7,
             "rgb(146,197,222)"
            ],
            [
             0.8,
             "rgb(67,147,195)"
            ],
            [
             0.9,
             "rgb(33,102,172)"
            ],
            [
             1,
             "rgb(5,48,97)"
            ]
           ],
           "sequential": [
            [
             0,
             "#440154"
            ],
            [
             0.1111111111111111,
             "#482878"
            ],
            [
             0.2222222222222222,
             "#3e4989"
            ],
            [
             0.3333333333333333,
             "#31688e"
            ],
            [
             0.4444444444444444,
             "#26828e"
            ],
            [
             0.5555555555555556,
             "#1f9e89"
            ],
            [
             0.6666666666666666,
             "#35b779"
            ],
            [
             0.7777777777777778,
             "#6ece58"
            ],
            [
             0.8888888888888888,
             "#b5de2b"
            ],
            [
             1,
             "#fde725"
            ]
           ],
           "sequentialminus": [
            [
             0,
             "#440154"
            ],
            [
             0.1111111111111111,
             "#482878"
            ],
            [
             0.2222222222222222,
             "#3e4989"
            ],
            [
             0.3333333333333333,
             "#31688e"
            ],
            [
             0.4444444444444444,
             "#26828e"
            ],
            [
             0.5555555555555556,
             "#1f9e89"
            ],
            [
             0.6666666666666666,
             "#35b779"
            ],
            [
             0.7777777777777778,
             "#6ece58"
            ],
            [
             0.8888888888888888,
             "#b5de2b"
            ],
            [
             1,
             "#fde725"
            ]
           ]
          },
          "colorway": [
           "#1F77B4",
           "#FF7F0E",
           "#2CA02C",
           "#D62728",
           "#9467BD",
           "#8C564B",
           "#E377C2",
           "#7F7F7F",
           "#BCBD22",
           "#17BECF"
          ],
          "font": {
           "color": "rgb(36,36,36)"
          },
          "geo": {
           "bgcolor": "white",
           "lakecolor": "white",
           "landcolor": "white",
           "showlakes": true,
           "showland": true,
           "subunitcolor": "white"
          },
          "hoverlabel": {
           "align": "left"
          },
          "hovermode": "closest",
          "mapbox": {
           "style": "light"
          },
          "paper_bgcolor": "white",
          "plot_bgcolor": "white",
          "polar": {
           "angularaxis": {
            "gridcolor": "rgb(232,232,232)",
            "linecolor": "rgb(36,36,36)",
            "showgrid": false,
            "showline": true,
            "ticks": "outside"
           },
           "bgcolor": "white",
           "radialaxis": {
            "gridcolor": "rgb(232,232,232)",
            "linecolor": "rgb(36,36,36)",
            "showgrid": false,
            "showline": true,
            "ticks": "outside"
           }
          },
          "scene": {
           "xaxis": {
            "backgroundcolor": "white",
            "gridcolor": "rgb(232,232,232)",
            "gridwidth": 2,
            "linecolor": "rgb(36,36,36)",
            "showbackground": true,
            "showgrid": false,
            "showline": true,
            "ticks": "outside",
            "zeroline": false,
            "zerolinecolor": "rgb(36,36,36)"
           },
           "yaxis": {
            "backgroundcolor": "white",
            "gridcolor": "rgb(232,232,232)",
            "gridwidth": 2,
            "linecolor": "rgb(36,36,36)",
            "showbackground": true,
            "showgrid": false,
            "showline": true,
            "ticks": "outside",
            "zeroline": false,
            "zerolinecolor": "rgb(36,36,36)"
           },
           "zaxis": {
            "backgroundcolor": "white",
            "gridcolor": "rgb(232,232,232)",
            "gridwidth": 2,
            "linecolor": "rgb(36,36,36)",
            "showbackground": true,
            "showgrid": false,
            "showline": true,
            "ticks": "outside",
            "zeroline": false,
            "zerolinecolor": "rgb(36,36,36)"
           }
          },
          "shapedefaults": {
           "fillcolor": "black",
           "line": {
            "width": 0
           },
           "opacity": 0.3
          },
          "ternary": {
           "aaxis": {
            "gridcolor": "rgb(232,232,232)",
            "linecolor": "rgb(36,36,36)",
            "showgrid": false,
            "showline": true,
            "ticks": "outside"
           },
           "baxis": {
            "gridcolor": "rgb(232,232,232)",
            "linecolor": "rgb(36,36,36)",
            "showgrid": false,
            "showline": true,
            "ticks": "outside"
           },
           "bgcolor": "white",
           "caxis": {
            "gridcolor": "rgb(232,232,232)",
            "linecolor": "rgb(36,36,36)",
            "showgrid": false,
            "showline": true,
            "ticks": "outside"
           }
          },
          "title": {
           "x": 0.05
          },
          "xaxis": {
           "automargin": true,
           "gridcolor": "rgb(232,232,232)",
           "linecolor": "rgb(36,36,36)",
           "showgrid": false,
           "showline": true,
           "ticks": "outside",
           "title": {
            "standoff": 15
           },
           "zeroline": false,
           "zerolinecolor": "rgb(36,36,36)"
          },
          "yaxis": {
           "automargin": true,
           "gridcolor": "rgb(232,232,232)",
           "linecolor": "rgb(36,36,36)",
           "showgrid": false,
           "showline": true,
           "ticks": "outside",
           "title": {
            "standoff": 15
           },
           "zeroline": false,
           "zerolinecolor": "rgb(36,36,36)"
          }
         }
        },
        "title": {
         "text": "<b>T-t data compilation</b>",
         "x": 0.5
        },
        "width": 1200,
        "xaxis": {
         "anchor": "y",
         "domain": [
          0,
          1
         ],
         "linecolor": "black",
         "linewidth": 0.5,
         "range": [
          610,
          450
         ],
         "showline": true,
         "ticks": "inside",
         "tickwidth": 0.5,
         "title": {
          "text": "Age (Ma)"
         }
        },
        "yaxis": {
         "anchor": "x",
         "domain": [
          0,
          1
         ],
         "linecolor": "black",
         "linewidth": 0.5,
         "range": [
          250,
          1100
         ],
         "showline": true,
         "ticks": "inside",
         "tickwidth": 0.5,
         "title": {
          "text": "Temperature (°C)"
         }
        }
       }
      }
     },
     "metadata": {},
     "output_type": "display_data"
    }
   ],
   "source": [
    "plot_Tt(df_excel, \"2025\", False)"
   ]
  },
  {
   "cell_type": "code",
   "execution_count": 7,
   "id": "0a1ee7c0",
   "metadata": {},
   "outputs": [
    {
     "data": {
      "application/vnd.plotly.v1+json": {
       "config": {
        "plotlyServerURL": "https://plot.ly"
       },
       "data": [
        {
         "customdata": [
          [
           "Schiavetti_et_al_2024"
          ],
          [
           "Schiavetti_et_al_2024"
          ],
          [
           "Schiavetti_et_al_2024"
          ],
          [
           "Schiavetti_et_al_2024"
          ]
         ],
         "error_x": {
          "array": [
           2,
           4,
           7,
           2
          ]
         },
         "error_y": {
          "array": [
           2,
           0.5,
           1,
           null
          ]
         },
         "hovertemplate": "hue_domain=this study<br>age=%{x}<br>P=%{y}<br>reference=%{customdata[0]}<extra></extra>",
         "legendgroup": "this study",
         "marker": {
          "color": "#00cc99",
          "size": 12,
          "symbol": "circle"
         },
         "mode": "markers",
         "name": "this study",
         "orientation": "v",
         "showlegend": true,
         "type": "scatter",
         "x": [
          528,
          498,
          523,
          492
         ],
         "xaxis": "x",
         "y": [
          8.5,
          5,
          5,
          null
         ],
         "yaxis": "y"
        },
        {
         "customdata": [
          [
           "Belém_2006"
          ],
          [
           "Belém_2006"
          ],
          [
           "Belém_2006"
          ],
          [
           "Belém_2006"
          ],
          [
           "Belém_2006"
          ],
          [
           "Belém_2006"
          ],
          [
           "Belém_2006"
          ],
          [
           "Gradim_2013"
          ],
          [
           "Gradim_2013"
          ],
          [
           "Gradim_2013"
          ],
          [
           "Gradim_2013"
          ],
          [
           "Gradim_2013"
          ],
          [
           "Cavalcante_et_al_2014"
          ],
          [
           "Cavalcante_et_al_2014"
          ],
          [
           "Cavalcante_et_al_2014"
          ],
          [
           "Cavalcante_et_al_2014"
          ],
          [
           "Cavalcante_et_al_2014"
          ],
          [
           "Cavalcante_et_al_2014"
          ],
          [
           "Ritcher_et_al_2016"
          ],
          [
           "Ritcher_et_al_2016"
          ],
          [
           "Ritcher_et_al_2016"
          ],
          [
           "Ritcher_et_al_2016"
          ],
          [
           "Ritcher_et_al_2016"
          ]
         ],
         "error_x": {
          "array": [
           null,
           null,
           null,
           null,
           null,
           null,
           null,
           null,
           null,
           null,
           null,
           null,
           null,
           null,
           null,
           null,
           null,
           null,
           5,
           4,
           4,
           3,
           5
          ]
         },
         "error_y": {
          "array": [
           0.45,
           0.48,
           0.47,
           0.52,
           0.61,
           0.56,
           0.49,
           0.5,
           0.5,
           0.7,
           0.9,
           0.4,
           0.5,
           0.5,
           0.5,
           0.5,
           0.5,
           0.5,
           1.5,
           0.40000000000000036,
           1.9,
           0.40000000000000036,
           0.6500000000000004
          ]
         },
         "hovertemplate": "hue_domain=nvc / eastern<br>age=%{x}<br>P=%{y}<br>reference=%{customdata[0]}<extra></extra>",
         "legendgroup": "nvc / eastern",
         "marker": {
          "color": "#333333",
          "size": 12,
          "symbol": "circle"
         },
         "mode": "markers",
         "name": "nvc / eastern",
         "orientation": "v",
         "showlegend": true,
         "type": "scatter",
         "x": [
          null,
          null,
          null,
          null,
          null,
          null,
          null,
          null,
          null,
          null,
          null,
          null,
          null,
          null,
          null,
          null,
          null,
          null,
          561,
          499,
          570,
          495,
          565
         ],
         "xaxis": "x",
         "y": [
          4.98,
          5.2,
          5.94,
          6.56,
          7.35,
          6.66,
          5.38,
          5.4,
          5,
          5.2,
          5.6,
          6.1,
          6.5,
          6.5,
          6.5,
          6.5,
          6.5,
          6.5,
          7.5,
          5.5,
          7.1,
          4.7,
          6.9
         ],
         "yaxis": "y"
        }
       ],
       "layout": {
        "font": {
         "family": "Calibri",
         "size": 18
        },
        "height": 720,
        "legend": {
         "bordercolor": "Black",
         "borderwidth": 0.5,
         "font": {
          "family": "Calibri",
          "size": 18
         },
         "title": {
          "text": "<b>Domains</b>"
         },
         "tracegroupgap": 0,
         "x": 0.01,
         "xanchor": "left",
         "y": 0.99,
         "yanchor": "top"
        },
        "margin": {
         "b": 20,
         "r": 20,
         "t": 60
        },
        "template": {
         "data": {
          "bar": [
           {
            "error_x": {
             "color": "rgb(36,36,36)"
            },
            "error_y": {
             "color": "rgb(36,36,36)"
            },
            "marker": {
             "line": {
              "color": "white",
              "width": 0.5
             },
             "pattern": {
              "fillmode": "overlay",
              "size": 10,
              "solidity": 0.2
             }
            },
            "type": "bar"
           }
          ],
          "barpolar": [
           {
            "marker": {
             "line": {
              "color": "white",
              "width": 0.5
             },
             "pattern": {
              "fillmode": "overlay",
              "size": 10,
              "solidity": 0.2
             }
            },
            "type": "barpolar"
           }
          ],
          "carpet": [
           {
            "aaxis": {
             "endlinecolor": "rgb(36,36,36)",
             "gridcolor": "white",
             "linecolor": "white",
             "minorgridcolor": "white",
             "startlinecolor": "rgb(36,36,36)"
            },
            "baxis": {
             "endlinecolor": "rgb(36,36,36)",
             "gridcolor": "white",
             "linecolor": "white",
             "minorgridcolor": "white",
             "startlinecolor": "rgb(36,36,36)"
            },
            "type": "carpet"
           }
          ],
          "choropleth": [
           {
            "colorbar": {
             "outlinewidth": 1,
             "tickcolor": "rgb(36,36,36)",
             "ticks": "outside"
            },
            "type": "choropleth"
           }
          ],
          "contour": [
           {
            "colorbar": {
             "outlinewidth": 1,
             "tickcolor": "rgb(36,36,36)",
             "ticks": "outside"
            },
            "colorscale": [
             [
              0,
              "#440154"
             ],
             [
              0.1111111111111111,
              "#482878"
             ],
             [
              0.2222222222222222,
              "#3e4989"
             ],
             [
              0.3333333333333333,
              "#31688e"
             ],
             [
              0.4444444444444444,
              "#26828e"
             ],
             [
              0.5555555555555556,
              "#1f9e89"
             ],
             [
              0.6666666666666666,
              "#35b779"
             ],
             [
              0.7777777777777778,
              "#6ece58"
             ],
             [
              0.8888888888888888,
              "#b5de2b"
             ],
             [
              1,
              "#fde725"
             ]
            ],
            "type": "contour"
           }
          ],
          "contourcarpet": [
           {
            "colorbar": {
             "outlinewidth": 1,
             "tickcolor": "rgb(36,36,36)",
             "ticks": "outside"
            },
            "type": "contourcarpet"
           }
          ],
          "heatmap": [
           {
            "colorbar": {
             "outlinewidth": 1,
             "tickcolor": "rgb(36,36,36)",
             "ticks": "outside"
            },
            "colorscale": [
             [
              0,
              "#440154"
             ],
             [
              0.1111111111111111,
              "#482878"
             ],
             [
              0.2222222222222222,
              "#3e4989"
             ],
             [
              0.3333333333333333,
              "#31688e"
             ],
             [
              0.4444444444444444,
              "#26828e"
             ],
             [
              0.5555555555555556,
              "#1f9e89"
             ],
             [
              0.6666666666666666,
              "#35b779"
             ],
             [
              0.7777777777777778,
              "#6ece58"
             ],
             [
              0.8888888888888888,
              "#b5de2b"
             ],
             [
              1,
              "#fde725"
             ]
            ],
            "type": "heatmap"
           }
          ],
          "heatmapgl": [
           {
            "colorbar": {
             "outlinewidth": 1,
             "tickcolor": "rgb(36,36,36)",
             "ticks": "outside"
            },
            "colorscale": [
             [
              0,
              "#440154"
             ],
             [
              0.1111111111111111,
              "#482878"
             ],
             [
              0.2222222222222222,
              "#3e4989"
             ],
             [
              0.3333333333333333,
              "#31688e"
             ],
             [
              0.4444444444444444,
              "#26828e"
             ],
             [
              0.5555555555555556,
              "#1f9e89"
             ],
             [
              0.6666666666666666,
              "#35b779"
             ],
             [
              0.7777777777777778,
              "#6ece58"
             ],
             [
              0.8888888888888888,
              "#b5de2b"
             ],
             [
              1,
              "#fde725"
             ]
            ],
            "type": "heatmapgl"
           }
          ],
          "histogram": [
           {
            "marker": {
             "line": {
              "color": "white",
              "width": 0.6
             }
            },
            "type": "histogram"
           }
          ],
          "histogram2d": [
           {
            "colorbar": {
             "outlinewidth": 1,
             "tickcolor": "rgb(36,36,36)",
             "ticks": "outside"
            },
            "colorscale": [
             [
              0,
              "#440154"
             ],
             [
              0.1111111111111111,
              "#482878"
             ],
             [
              0.2222222222222222,
              "#3e4989"
             ],
             [
              0.3333333333333333,
              "#31688e"
             ],
             [
              0.4444444444444444,
              "#26828e"
             ],
             [
              0.5555555555555556,
              "#1f9e89"
             ],
             [
              0.6666666666666666,
              "#35b779"
             ],
             [
              0.7777777777777778,
              "#6ece58"
             ],
             [
              0.8888888888888888,
              "#b5de2b"
             ],
             [
              1,
              "#fde725"
             ]
            ],
            "type": "histogram2d"
           }
          ],
          "histogram2dcontour": [
           {
            "colorbar": {
             "outlinewidth": 1,
             "tickcolor": "rgb(36,36,36)",
             "ticks": "outside"
            },
            "colorscale": [
             [
              0,
              "#440154"
             ],
             [
              0.1111111111111111,
              "#482878"
             ],
             [
              0.2222222222222222,
              "#3e4989"
             ],
             [
              0.3333333333333333,
              "#31688e"
             ],
             [
              0.4444444444444444,
              "#26828e"
             ],
             [
              0.5555555555555556,
              "#1f9e89"
             ],
             [
              0.6666666666666666,
              "#35b779"
             ],
             [
              0.7777777777777778,
              "#6ece58"
             ],
             [
              0.8888888888888888,
              "#b5de2b"
             ],
             [
              1,
              "#fde725"
             ]
            ],
            "type": "histogram2dcontour"
           }
          ],
          "mesh3d": [
           {
            "colorbar": {
             "outlinewidth": 1,
             "tickcolor": "rgb(36,36,36)",
             "ticks": "outside"
            },
            "type": "mesh3d"
           }
          ],
          "parcoords": [
           {
            "line": {
             "colorbar": {
              "outlinewidth": 1,
              "tickcolor": "rgb(36,36,36)",
              "ticks": "outside"
             }
            },
            "type": "parcoords"
           }
          ],
          "pie": [
           {
            "automargin": true,
            "type": "pie"
           }
          ],
          "scatter": [
           {
            "fillpattern": {
             "fillmode": "overlay",
             "size": 10,
             "solidity": 0.2
            },
            "type": "scatter"
           }
          ],
          "scatter3d": [
           {
            "line": {
             "colorbar": {
              "outlinewidth": 1,
              "tickcolor": "rgb(36,36,36)",
              "ticks": "outside"
             }
            },
            "marker": {
             "colorbar": {
              "outlinewidth": 1,
              "tickcolor": "rgb(36,36,36)",
              "ticks": "outside"
             }
            },
            "type": "scatter3d"
           }
          ],
          "scattercarpet": [
           {
            "marker": {
             "colorbar": {
              "outlinewidth": 1,
              "tickcolor": "rgb(36,36,36)",
              "ticks": "outside"
             }
            },
            "type": "scattercarpet"
           }
          ],
          "scattergeo": [
           {
            "marker": {
             "colorbar": {
              "outlinewidth": 1,
              "tickcolor": "rgb(36,36,36)",
              "ticks": "outside"
             }
            },
            "type": "scattergeo"
           }
          ],
          "scattergl": [
           {
            "marker": {
             "colorbar": {
              "outlinewidth": 1,
              "tickcolor": "rgb(36,36,36)",
              "ticks": "outside"
             }
            },
            "type": "scattergl"
           }
          ],
          "scattermapbox": [
           {
            "marker": {
             "colorbar": {
              "outlinewidth": 1,
              "tickcolor": "rgb(36,36,36)",
              "ticks": "outside"
             }
            },
            "type": "scattermapbox"
           }
          ],
          "scatterpolar": [
           {
            "marker": {
             "colorbar": {
              "outlinewidth": 1,
              "tickcolor": "rgb(36,36,36)",
              "ticks": "outside"
             }
            },
            "type": "scatterpolar"
           }
          ],
          "scatterpolargl": [
           {
            "marker": {
             "colorbar": {
              "outlinewidth": 1,
              "tickcolor": "rgb(36,36,36)",
              "ticks": "outside"
             }
            },
            "type": "scatterpolargl"
           }
          ],
          "scatterternary": [
           {
            "marker": {
             "colorbar": {
              "outlinewidth": 1,
              "tickcolor": "rgb(36,36,36)",
              "ticks": "outside"
             }
            },
            "type": "scatterternary"
           }
          ],
          "surface": [
           {
            "colorbar": {
             "outlinewidth": 1,
             "tickcolor": "rgb(36,36,36)",
             "ticks": "outside"
            },
            "colorscale": [
             [
              0,
              "#440154"
             ],
             [
              0.1111111111111111,
              "#482878"
             ],
             [
              0.2222222222222222,
              "#3e4989"
             ],
             [
              0.3333333333333333,
              "#31688e"
             ],
             [
              0.4444444444444444,
              "#26828e"
             ],
             [
              0.5555555555555556,
              "#1f9e89"
             ],
             [
              0.6666666666666666,
              "#35b779"
             ],
             [
              0.7777777777777778,
              "#6ece58"
             ],
             [
              0.8888888888888888,
              "#b5de2b"
             ],
             [
              1,
              "#fde725"
             ]
            ],
            "type": "surface"
           }
          ],
          "table": [
           {
            "cells": {
             "fill": {
              "color": "rgb(237,237,237)"
             },
             "line": {
              "color": "white"
             }
            },
            "header": {
             "fill": {
              "color": "rgb(217,217,217)"
             },
             "line": {
              "color": "white"
             }
            },
            "type": "table"
           }
          ]
         },
         "layout": {
          "annotationdefaults": {
           "arrowhead": 0,
           "arrowwidth": 1
          },
          "autotypenumbers": "strict",
          "coloraxis": {
           "colorbar": {
            "outlinewidth": 1,
            "tickcolor": "rgb(36,36,36)",
            "ticks": "outside"
           }
          },
          "colorscale": {
           "diverging": [
            [
             0,
             "rgb(103,0,31)"
            ],
            [
             0.1,
             "rgb(178,24,43)"
            ],
            [
             0.2,
             "rgb(214,96,77)"
            ],
            [
             0.3,
             "rgb(244,165,130)"
            ],
            [
             0.4,
             "rgb(253,219,199)"
            ],
            [
             0.5,
             "rgb(247,247,247)"
            ],
            [
             0.6,
             "rgb(209,229,240)"
            ],
            [
             0.7,
             "rgb(146,197,222)"
            ],
            [
             0.8,
             "rgb(67,147,195)"
            ],
            [
             0.9,
             "rgb(33,102,172)"
            ],
            [
             1,
             "rgb(5,48,97)"
            ]
           ],
           "sequential": [
            [
             0,
             "#440154"
            ],
            [
             0.1111111111111111,
             "#482878"
            ],
            [
             0.2222222222222222,
             "#3e4989"
            ],
            [
             0.3333333333333333,
             "#31688e"
            ],
            [
             0.4444444444444444,
             "#26828e"
            ],
            [
             0.5555555555555556,
             "#1f9e89"
            ],
            [
             0.6666666666666666,
             "#35b779"
            ],
            [
             0.7777777777777778,
             "#6ece58"
            ],
            [
             0.8888888888888888,
             "#b5de2b"
            ],
            [
             1,
             "#fde725"
            ]
           ],
           "sequentialminus": [
            [
             0,
             "#440154"
            ],
            [
             0.1111111111111111,
             "#482878"
            ],
            [
             0.2222222222222222,
             "#3e4989"
            ],
            [
             0.3333333333333333,
             "#31688e"
            ],
            [
             0.4444444444444444,
             "#26828e"
            ],
            [
             0.5555555555555556,
             "#1f9e89"
            ],
            [
             0.6666666666666666,
             "#35b779"
            ],
            [
             0.7777777777777778,
             "#6ece58"
            ],
            [
             0.8888888888888888,
             "#b5de2b"
            ],
            [
             1,
             "#fde725"
            ]
           ]
          },
          "colorway": [
           "#1F77B4",
           "#FF7F0E",
           "#2CA02C",
           "#D62728",
           "#9467BD",
           "#8C564B",
           "#E377C2",
           "#7F7F7F",
           "#BCBD22",
           "#17BECF"
          ],
          "font": {
           "color": "rgb(36,36,36)"
          },
          "geo": {
           "bgcolor": "white",
           "lakecolor": "white",
           "landcolor": "white",
           "showlakes": true,
           "showland": true,
           "subunitcolor": "white"
          },
          "hoverlabel": {
           "align": "left"
          },
          "hovermode": "closest",
          "mapbox": {
           "style": "light"
          },
          "paper_bgcolor": "white",
          "plot_bgcolor": "white",
          "polar": {
           "angularaxis": {
            "gridcolor": "rgb(232,232,232)",
            "linecolor": "rgb(36,36,36)",
            "showgrid": false,
            "showline": true,
            "ticks": "outside"
           },
           "bgcolor": "white",
           "radialaxis": {
            "gridcolor": "rgb(232,232,232)",
            "linecolor": "rgb(36,36,36)",
            "showgrid": false,
            "showline": true,
            "ticks": "outside"
           }
          },
          "scene": {
           "xaxis": {
            "backgroundcolor": "white",
            "gridcolor": "rgb(232,232,232)",
            "gridwidth": 2,
            "linecolor": "rgb(36,36,36)",
            "showbackground": true,
            "showgrid": false,
            "showline": true,
            "ticks": "outside",
            "zeroline": false,
            "zerolinecolor": "rgb(36,36,36)"
           },
           "yaxis": {
            "backgroundcolor": "white",
            "gridcolor": "rgb(232,232,232)",
            "gridwidth": 2,
            "linecolor": "rgb(36,36,36)",
            "showbackground": true,
            "showgrid": false,
            "showline": true,
            "ticks": "outside",
            "zeroline": false,
            "zerolinecolor": "rgb(36,36,36)"
           },
           "zaxis": {
            "backgroundcolor": "white",
            "gridcolor": "rgb(232,232,232)",
            "gridwidth": 2,
            "linecolor": "rgb(36,36,36)",
            "showbackground": true,
            "showgrid": false,
            "showline": true,
            "ticks": "outside",
            "zeroline": false,
            "zerolinecolor": "rgb(36,36,36)"
           }
          },
          "shapedefaults": {
           "fillcolor": "black",
           "line": {
            "width": 0
           },
           "opacity": 0.3
          },
          "ternary": {
           "aaxis": {
            "gridcolor": "rgb(232,232,232)",
            "linecolor": "rgb(36,36,36)",
            "showgrid": false,
            "showline": true,
            "ticks": "outside"
           },
           "baxis": {
            "gridcolor": "rgb(232,232,232)",
            "linecolor": "rgb(36,36,36)",
            "showgrid": false,
            "showline": true,
            "ticks": "outside"
           },
           "bgcolor": "white",
           "caxis": {
            "gridcolor": "rgb(232,232,232)",
            "linecolor": "rgb(36,36,36)",
            "showgrid": false,
            "showline": true,
            "ticks": "outside"
           }
          },
          "title": {
           "x": 0.05
          },
          "xaxis": {
           "automargin": true,
           "gridcolor": "rgb(232,232,232)",
           "linecolor": "rgb(36,36,36)",
           "showgrid": false,
           "showline": true,
           "ticks": "outside",
           "title": {
            "standoff": 15
           },
           "zeroline": false,
           "zerolinecolor": "rgb(36,36,36)"
          },
          "yaxis": {
           "automargin": true,
           "gridcolor": "rgb(232,232,232)",
           "linecolor": "rgb(36,36,36)",
           "showgrid": false,
           "showline": true,
           "ticks": "outside",
           "title": {
            "standoff": 15
           },
           "zeroline": false,
           "zerolinecolor": "rgb(36,36,36)"
          }
         }
        },
        "title": {
         "text": "<b>P-t data compilation</b>",
         "x": 0.5
        },
        "width": 1200,
        "xaxis": {
         "anchor": "y",
         "domain": [
          0,
          1
         ],
         "linecolor": "black",
         "linewidth": 0.5,
         "range": [
          610,
          450
         ],
         "showline": true,
         "ticks": "inside",
         "tickwidth": 0.5,
         "title": {
          "text": "Age (Ma)"
         }
        },
        "yaxis": {
         "anchor": "x",
         "domain": [
          0,
          1
         ],
         "linecolor": "black",
         "linewidth": 0.5,
         "range": [
          3.5,
          11
         ],
         "showline": true,
         "ticks": "inside",
         "tickwidth": 0.5,
         "title": {
          "text": "Pressure (kbar)"
         }
        }
       }
      }
     },
     "metadata": {},
     "output_type": "display_data"
    }
   ],
   "source": [
    "plot_Pt(df_excel, \"2025\", False)"
   ]
  }
 ],
 "metadata": {
  "kernelspec": {
   "display_name": "env_spatial",
   "language": "python",
   "name": "python3"
  },
  "language_info": {
   "codemirror_mode": {
    "name": "ipython",
    "version": 3
   },
   "file_extension": ".py",
   "mimetype": "text/x-python",
   "name": "python",
   "nbconvert_exporter": "python",
   "pygments_lexer": "ipython3",
   "version": "3.10.4"
  }
 },
 "nbformat": 4,
 "nbformat_minor": 5
}
